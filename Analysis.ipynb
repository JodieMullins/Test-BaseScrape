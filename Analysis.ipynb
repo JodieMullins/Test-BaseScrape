{
 "cells": [
  {
   "cell_type": "code",
   "execution_count": 1,
   "id": "a1aac98e-cf9f-4af4-9de2-a3752e8f454b",
   "metadata": {},
   "outputs": [
    {
     "name": "stderr",
     "output_type": "stream",
     "text": [
      "C:\\Users\\jomuf\\AppData\\Local\\Temp\\ipykernel_23676\\2753799244.py:2: DeprecationWarning: \n",
      "Pyarrow will become a required dependency of pandas in the next major release of pandas (pandas 3.0),\n",
      "(to allow more performant data types, such as the Arrow string type, and better interoperability with other libraries)\n",
      "but was not found to be installed on your system.\n",
      "If this would cause problems for you,\n",
      "please provide us feedback at https://github.com/pandas-dev/pandas/issues/54466\n",
      "        \n",
      "  import pandas\n"
     ]
    }
   ],
   "source": [
    "import sqlite3\n",
    "import pandas\n",
    "import csv\n"
   ]
  },
  {
   "cell_type": "code",
   "execution_count": null,
   "id": "39929031-e6ad-4d0f-b8db-ac90d471089d",
   "metadata": {},
   "outputs": [],
   "source": [
    "!python TSdotcomDatabase.py"
   ]
  },
  {
   "cell_type": "code",
   "execution_count": null,
   "id": "7725d2c3-d4e0-4b48-b431-9573b2f01dd4",
   "metadata": {},
   "outputs": [],
   "source": []
  }
 ],
 "metadata": {
  "kernelspec": {
   "display_name": "Python 3 (ipykernel)",
   "language": "python",
   "name": "python3"
  },
  "language_info": {
   "codemirror_mode": {
    "name": "ipython",
    "version": 3
   },
   "file_extension": ".py",
   "mimetype": "text/x-python",
   "name": "python",
   "nbconvert_exporter": "python",
   "pygments_lexer": "ipython3",
   "version": "3.12.0"
  }
 },
 "nbformat": 4,
 "nbformat_minor": 5
}
